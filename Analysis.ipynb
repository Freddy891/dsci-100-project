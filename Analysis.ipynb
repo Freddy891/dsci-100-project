{
 "cells": [
  {
   "cell_type": "markdown",
   "id": "c53e9f2b-589c-4818-a62d-9eedea4afd42",
   "metadata": {},
   "source": [
    "# DSCI-100 Project"
   ]
  },
  {
   "cell_type": "code",
   "execution_count": 10,
   "id": "078b9565-1ad6-4be2-a936-308f51edfe55",
   "metadata": {},
   "outputs": [
    {
     "name": "stderr",
     "output_type": "stream",
     "text": [
      "\n",
      "Attaching package: ‘cowplot’\n",
      "\n",
      "\n",
      "The following object is masked from ‘package:lubridate’:\n",
      "\n",
      "    stamp\n",
      "\n",
      "\n",
      "── \u001b[1mAttaching packages\u001b[22m ────────────────────────────────────── tidymodels 1.1.1 ──\n",
      "\n",
      "\u001b[32m✔\u001b[39m \u001b[34mbroom       \u001b[39m 1.0.6     \u001b[32m✔\u001b[39m \u001b[34mrsample     \u001b[39m 1.2.1\n",
      "\u001b[32m✔\u001b[39m \u001b[34mdials       \u001b[39m 1.3.0     \u001b[32m✔\u001b[39m \u001b[34mtune        \u001b[39m 1.1.2\n",
      "\u001b[32m✔\u001b[39m \u001b[34mmodeldata   \u001b[39m 1.4.0     \u001b[32m✔\u001b[39m \u001b[34mworkflows   \u001b[39m 1.1.4\n",
      "\u001b[32m✔\u001b[39m \u001b[34mparsnip     \u001b[39m 1.2.1     \u001b[32m✔\u001b[39m \u001b[34mworkflowsets\u001b[39m 1.0.1\n",
      "\u001b[32m✔\u001b[39m \u001b[34mrecipes     \u001b[39m 1.1.0     \u001b[32m✔\u001b[39m \u001b[34myardstick   \u001b[39m 1.3.1\n",
      "\n",
      "── \u001b[1mConflicts\u001b[22m ───────────────────────────────────────── tidymodels_conflicts() ──\n",
      "\u001b[31m✖\u001b[39m \u001b[34mscales\u001b[39m::\u001b[32mdiscard()\u001b[39m masks \u001b[34mpurrr\u001b[39m::discard()\n",
      "\u001b[31m✖\u001b[39m \u001b[34mdplyr\u001b[39m::\u001b[32mfilter()\u001b[39m   masks \u001b[34mstats\u001b[39m::filter()\n",
      "\u001b[31m✖\u001b[39m \u001b[34mrecipes\u001b[39m::\u001b[32mfixed()\u001b[39m  masks \u001b[34mstringr\u001b[39m::fixed()\n",
      "\u001b[31m✖\u001b[39m \u001b[34mdplyr\u001b[39m::\u001b[32mlag()\u001b[39m      masks \u001b[34mstats\u001b[39m::lag()\n",
      "\u001b[31m✖\u001b[39m \u001b[34myardstick\u001b[39m::\u001b[32mspec()\u001b[39m masks \u001b[34mreadr\u001b[39m::spec()\n",
      "\u001b[31m✖\u001b[39m \u001b[34mrecipes\u001b[39m::\u001b[32mstep()\u001b[39m   masks \u001b[34mstats\u001b[39m::step()\n",
      "\u001b[34m•\u001b[39m Learn how to get started at \u001b[32mhttps://www.tidymodels.org/start/\u001b[39m\n",
      "\n"
     ]
    }
   ],
   "source": [
    "library(tidyverse)\n",
    "library(repr)\n",
    "library(infer)\n",
    "library(cowplot)\n",
    "library(tidymodels)"
   ]
  },
  {
   "cell_type": "markdown",
   "id": "d96169ae-8ef1-4826-af32-45d45f72eb4a",
   "metadata": {},
   "source": [
    "## Introduction\n",
    "This project will be analyzing data obtained from [a research group in Computer Science at UBC](https://plai.cs.ubc.ca/), led by [Frank Wood](https://www.cs.ubc.ca/~fwood/). Specifically, these data are obtained from numerous players' actions in the video game Minecraft. In interest of collecting data efficiently, this analysis will focus on which \"kinds\" of players are most likely to contribute a large amount of data so that we can target those players in our recruiting efforts.\n",
    "\n",
    "### File players.csv:\n",
    "- `experience` Refers to the player's experience with Minecraft as the following:\n",
    "    * Pro\n",
    "    * Veteran\n",
    "    * Regular\n",
    "    * Amateur\n",
    "    * Beginner\n",
    "- `subscribe` Refers to whether the player has subscribed to game-related newsletters.\n",
    "- `hashedEmail` Player email, obfuscated for privacy.\n",
    "- `played_hours` Player's total hours spent playing.\n",
    "- `name` Player's name.\n",
    "- `gender` Player's gender.\n",
    "- `age` Player's age.\n",
    "\n",
    "### File sessions.csv:\n",
    "- `hashedEmail` Player email, obfuscated for privacy.\n",
    "- `start_time` Session start time in human readable time.\n",
    "- `end_time` Session end time in human readable time.\n",
    "- `original_start_time` Session start time in Epoch time.\n",
    "- `original_end_time` Session end time in Epoch time.\n",
    "\n",
    "### The Big Question\n",
    "Can we predict a player's total hours based on their experience and age? <br>\n",
    "In this context, session data becomes redundant as they are obtained after recuiting the player. If we want to recruit players before they actually start playing on the server, we can't use session data in our prediction."
   ]
  },
  {
   "cell_type": "code",
   "execution_count": null,
   "id": "c23ed8e0-a2ad-4017-90dd-c593043bbd7c",
   "metadata": {},
   "outputs": [],
   "source": []
  }
 ],
 "metadata": {
  "kernelspec": {
   "display_name": "R",
   "language": "R",
   "name": "ir"
  },
  "language_info": {
   "codemirror_mode": "r",
   "file_extension": ".r",
   "mimetype": "text/x-r-source",
   "name": "R",
   "pygments_lexer": "r",
   "version": "4.3.3"
  }
 },
 "nbformat": 4,
 "nbformat_minor": 5
}
